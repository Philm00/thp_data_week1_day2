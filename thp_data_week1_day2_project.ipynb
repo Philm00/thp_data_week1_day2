{
 "cells": [
  {
   "cell_type": "markdown",
   "id": "dc606929",
   "metadata": {},
   "source": [
    "# Download the csv file and open it in a notebook"
   ]
  },
  {
   "cell_type": "code",
   "execution_count": 1,
   "id": "ee942ebd",
   "metadata": {},
   "outputs": [],
   "source": [
    "import pandas as pd              # to import panda library and match pd to panda related tasks #"
   ]
  },
  {
   "cell_type": "code",
   "execution_count": 2,
   "id": "2a89104a",
   "metadata": {},
   "outputs": [],
   "source": [
    "df = pd.read_csv(\"C:\\\\Users\\phili\\Downloads\\liste-des-musees-de-france-2021.csv\", delimiter=';',engine= 'python')"
   ]
  },
  {
   "cell_type": "markdown",
   "id": "86560e7f",
   "metadata": {},
   "source": [
    "# Answer your manager's questions"
   ]
  },
  {
   "cell_type": "markdown",
   "id": "0831f78c",
   "metadata": {},
   "source": [
    "## How many museums are there in France ?"
   ]
  },
  {
   "cell_type": "code",
   "execution_count": 3,
   "id": "b265dbbb",
   "metadata": {},
   "outputs": [
    {
     "name": "stdout",
     "output_type": "stream",
     "text": [
      "There are 3784 museums in France.\n"
     ]
    }
   ],
   "source": [
    "print (\"There are\", len(df), \"museums in France.\")  # we assume that every row stands for a museum #"
   ]
  },
  {
   "cell_type": "markdown",
   "id": "0b82b9a5",
   "metadata": {},
   "source": [
    "## Which cities have the most museums ? "
   ]
  },
  {
   "cell_type": "code",
   "execution_count": 4,
   "id": "1690717e",
   "metadata": {},
   "outputs": [
    {
     "name": "stdout",
     "output_type": "stream",
     "text": [
      "Paris has the most museums, with 175 museums.\n"
     ]
    }
   ],
   "source": [
    "print( df['city'].value_counts().idxmax(),\"has the most museums, with\",df['city'].value_counts().max(),\"museums.\")"
   ]
  },
  {
   "cell_type": "markdown",
   "id": "a7bcabca",
   "metadata": {},
   "source": [
    "## What is the average number of museum per city ?"
   ]
  },
  {
   "cell_type": "code",
   "execution_count": 5,
   "id": "e4353bfa",
   "metadata": {},
   "outputs": [
    {
     "name": "stdout",
     "output_type": "stream",
     "text": [
      "The average number of museum per city is 1.647930283224401 .\n"
     ]
    }
   ],
   "source": [
    "print(\"The average number of museum per city is\", df['city'].value_counts().mean(),\".\")"
   ]
  },
  {
   "cell_type": "markdown",
   "id": "d0702cb4",
   "metadata": {},
   "source": [
    "## What is the median number of museum per city ?"
   ]
  },
  {
   "cell_type": "code",
   "execution_count": 6,
   "id": "25ce18ba",
   "metadata": {},
   "outputs": [
    {
     "name": "stdout",
     "output_type": "stream",
     "text": [
      "The median number of museum per city is 1.0 .\n"
     ]
    }
   ],
   "source": [
    "print(\"The median number of museum per city is\", df['city'].value_counts().median(),\".\")"
   ]
  },
  {
   "cell_type": "markdown",
   "id": "f9466def",
   "metadata": {},
   "source": [
    "## How many museum's names start with \"Château\""
   ]
  },
  {
   "cell_type": "code",
   "execution_count": 7,
   "id": "bb2f60a7",
   "metadata": {},
   "outputs": [
    {
     "name": "stdout",
     "output_type": "stream",
     "text": [
      "There are 57 museums whose name starts with 'Château'.\n"
     ]
    }
   ],
   "source": [
    "print (\"There are\", df['name'].str.startswith('Château').value_counts().get(True, 0), \"museums whose name starts with 'Château'.\")"
   ]
  },
  {
   "cell_type": "markdown",
   "id": "8f6ccf9a",
   "metadata": {},
   "source": [
    "## For how many museums do we have a website ?"
   ]
  },
  {
   "cell_type": "code",
   "execution_count": 15,
   "id": "d6751f63",
   "metadata": {},
   "outputs": [
    {
     "name": "stdout",
     "output_type": "stream",
     "text": [
      "We found that 1585 museums filled in a website.\n"
     ]
    }
   ],
   "source": [
    " print(\"We found that\",df['website'].nunique(),\"museums filled in a website.\")   #counts only unique values in my data frame, .count() works but returns 1636#"
   ]
  },
  {
   "cell_type": "markdown",
   "id": "83f5862f",
   "metadata": {},
   "source": [
    "## Wich county has the most museums ?"
   ]
  },
  {
   "cell_type": "code",
   "execution_count": 17,
   "id": "59444362",
   "metadata": {},
   "outputs": [
    {
     "name": "stdout",
     "output_type": "stream",
     "text": [
      "The county n=° 75 has the most museums, with 172 museums\n"
     ]
    }
   ],
   "source": [
    "df['postal_code'] = df['postal_code'].map(lambda x: str(x)[:-5])\n",
    "\n",
    "by_postal_code = df.groupby(['postal_code'])['postal_code'].count()\n",
    "\n",
    "print(\"The county n=°\", by_postal_code.idxmax(),\"has the most museums, with\",by_postal_code.max(),\"museums\" )\n"
   ]
  },
  {
   "cell_type": "markdown",
   "id": "900227b5",
   "metadata": {},
   "source": [
    "## Wich county has the least museums ?"
   ]
  },
  {
   "cell_type": "code",
   "execution_count": 20,
   "id": "6ba2fd75",
   "metadata": {},
   "outputs": [
    {
     "name": "stdout",
     "output_type": "stream",
     "text": [
      "The county n=° 48 has the least museums, with 8 museums.\n"
     ]
    }
   ],
   "source": [
    "print(\"The county n=°\", by_postal_code.drop(\"590\").idxmin(),\"has the least museums, with\",by_postal_code.drop(\"590\").min(),\"museums.\" )\n"
   ]
  },
  {
   "cell_type": "code",
   "execution_count": null,
   "id": "b9631a3f",
   "metadata": {},
   "outputs": [],
   "source": []
  },
  {
   "cell_type": "markdown",
   "id": "1181bb68",
   "metadata": {},
   "source": [
    "# Improvements"
   ]
  },
  {
   "cell_type": "markdown",
   "id": "6fbb6b98",
   "metadata": {},
   "source": [
    "It wouldve been interresting to see attendance of each museum an sort them by popularity with these datas : https://www.data.gouv.fr/fr/datasets/frequentation-des-musees-de-france-1/"
   ]
  },
  {
   "cell_type": "markdown",
   "id": "dc1da61d",
   "metadata": {},
   "source": [
    "And maybe to cross them with the budget alloted to each county by the ministry of culture : https://www.data.gouv.fr/fr/datasets/depenses-du-ministere-de-la-culture-par-departement-en-2019/"
   ]
  },
  {
   "cell_type": "markdown",
   "id": "9e5aab12",
   "metadata": {},
   "source": [
    "may be we would be able to see a correlation with the number of artistics spaces: https://www.data.gouv.fr/fr/datasets/structures-de-la-creation-artistique-1/"
   ]
  },
  {
   "cell_type": "code",
   "execution_count": null,
   "id": "baa890d3",
   "metadata": {},
   "outputs": [],
   "source": []
  },
  {
   "cell_type": "code",
   "execution_count": null,
   "id": "de3cb351",
   "metadata": {},
   "outputs": [],
   "source": []
  },
  {
   "cell_type": "code",
   "execution_count": null,
   "id": "bc37741c",
   "metadata": {},
   "outputs": [],
   "source": []
  },
  {
   "cell_type": "code",
   "execution_count": null,
   "id": "4094fc7e",
   "metadata": {},
   "outputs": [],
   "source": []
  },
  {
   "cell_type": "code",
   "execution_count": null,
   "id": "c0a6ebc5",
   "metadata": {},
   "outputs": [],
   "source": []
  },
  {
   "cell_type": "code",
   "execution_count": null,
   "id": "b937c7ac",
   "metadata": {},
   "outputs": [],
   "source": []
  },
  {
   "cell_type": "code",
   "execution_count": null,
   "id": "d47f8245",
   "metadata": {},
   "outputs": [],
   "source": []
  },
  {
   "cell_type": "code",
   "execution_count": null,
   "id": "598695d5",
   "metadata": {},
   "outputs": [],
   "source": []
  },
  {
   "cell_type": "code",
   "execution_count": null,
   "id": "6dc36ea3",
   "metadata": {},
   "outputs": [],
   "source": []
  },
  {
   "cell_type": "code",
   "execution_count": null,
   "id": "9d498d18",
   "metadata": {},
   "outputs": [],
   "source": []
  },
  {
   "cell_type": "code",
   "execution_count": null,
   "id": "7163a341",
   "metadata": {},
   "outputs": [],
   "source": []
  },
  {
   "cell_type": "code",
   "execution_count": null,
   "id": "496c1e4d",
   "metadata": {},
   "outputs": [],
   "source": []
  },
  {
   "cell_type": "code",
   "execution_count": null,
   "id": "6801f231",
   "metadata": {},
   "outputs": [],
   "source": []
  },
  {
   "cell_type": "code",
   "execution_count": null,
   "id": "51f3f9b0",
   "metadata": {},
   "outputs": [],
   "source": []
  },
  {
   "cell_type": "code",
   "execution_count": null,
   "id": "1c994fed",
   "metadata": {},
   "outputs": [],
   "source": []
  },
  {
   "cell_type": "code",
   "execution_count": null,
   "id": "9a0ae595",
   "metadata": {},
   "outputs": [],
   "source": []
  },
  {
   "cell_type": "code",
   "execution_count": null,
   "id": "bf87454a",
   "metadata": {},
   "outputs": [],
   "source": []
  },
  {
   "cell_type": "code",
   "execution_count": null,
   "id": "e4392b05",
   "metadata": {},
   "outputs": [],
   "source": []
  },
  {
   "cell_type": "code",
   "execution_count": null,
   "id": "9758aee6",
   "metadata": {},
   "outputs": [],
   "source": []
  },
  {
   "cell_type": "code",
   "execution_count": null,
   "id": "6fa3b9f0",
   "metadata": {},
   "outputs": [],
   "source": []
  },
  {
   "cell_type": "code",
   "execution_count": null,
   "id": "75c824f2",
   "metadata": {},
   "outputs": [],
   "source": []
  },
  {
   "cell_type": "code",
   "execution_count": null,
   "id": "125ab744",
   "metadata": {},
   "outputs": [],
   "source": []
  },
  {
   "cell_type": "code",
   "execution_count": null,
   "id": "6d298642",
   "metadata": {},
   "outputs": [],
   "source": []
  },
  {
   "cell_type": "code",
   "execution_count": null,
   "id": "902d9176",
   "metadata": {},
   "outputs": [],
   "source": []
  }
 ],
 "metadata": {
  "kernelspec": {
   "display_name": "Python 3 (ipykernel)",
   "language": "python",
   "name": "python3"
  },
  "language_info": {
   "codemirror_mode": {
    "name": "ipython",
    "version": 3
   },
   "file_extension": ".py",
   "mimetype": "text/x-python",
   "name": "python",
   "nbconvert_exporter": "python",
   "pygments_lexer": "ipython3",
   "version": "3.9.12"
  }
 },
 "nbformat": 4,
 "nbformat_minor": 5
}
